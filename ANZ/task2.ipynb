{
  "cells": [
    {
      "metadata": {
        "trusted": true
      },
      "cell_type": "code",
      "source": "import numpy as np\nimport pandas as pd\nimport matplotlib.pyplot as plt\n%matplotlib inline\nimport seaborn as sns\n\nfrom sklearn.linear_model import LinearRegression\nfrom sklearn.tree import DecisionTreeClassifier, DecisionTreeRegressor",
      "execution_count": 39,
      "outputs": []
    },
    {
      "metadata": {
        "trusted": true
      },
      "cell_type": "code",
      "source": "df = pd.read_excel(\"ANZ synthesised transaction dataset.xlsx\")",
      "execution_count": 2,
      "outputs": []
    },
    {
      "metadata": {
        "trusted": true
      },
      "cell_type": "code",
      "source": "df.info()",
      "execution_count": 3,
      "outputs": [
        {
          "output_type": "stream",
          "text": "<class 'pandas.core.frame.DataFrame'>\nRangeIndex: 12043 entries, 0 to 12042\nData columns (total 23 columns):\nstatus               12043 non-null object\ncard_present_flag    7717 non-null float64\nbpay_biller_code     885 non-null object\naccount              12043 non-null object\ncurrency             12043 non-null object\nlong_lat             12043 non-null object\ntxn_description      12043 non-null object\nmerchant_id          7717 non-null object\nmerchant_code        883 non-null float64\nfirst_name           12043 non-null object\nbalance              12043 non-null float64\ndate                 12043 non-null datetime64[ns]\ngender               12043 non-null object\nage                  12043 non-null int64\nmerchant_suburb      7717 non-null object\nmerchant_state       7717 non-null object\nextraction           12043 non-null object\namount               12043 non-null float64\ntransaction_id       12043 non-null object\ncountry              12043 non-null object\ncustomer_id          12043 non-null object\nmerchant_long_lat    7717 non-null object\nmovement             12043 non-null object\ndtypes: datetime64[ns](1), float64(4), int64(1), object(17)\nmemory usage: 2.1+ MB\n",
          "name": "stdout"
        }
      ]
    },
    {
      "metadata": {
        "trusted": true
      },
      "cell_type": "code",
      "source": "df.head()",
      "execution_count": 4,
      "outputs": [
        {
          "output_type": "execute_result",
          "execution_count": 4,
          "data": {
            "text/html": "<div>\n<style scoped>\n    .dataframe tbody tr th:only-of-type {\n        vertical-align: middle;\n    }\n\n    .dataframe tbody tr th {\n        vertical-align: top;\n    }\n\n    .dataframe thead th {\n        text-align: right;\n    }\n</style>\n<table border=\"1\" class=\"dataframe\">\n  <thead>\n    <tr style=\"text-align: right;\">\n      <th></th>\n      <th>status</th>\n      <th>card_present_flag</th>\n      <th>bpay_biller_code</th>\n      <th>account</th>\n      <th>currency</th>\n      <th>long_lat</th>\n      <th>txn_description</th>\n      <th>merchant_id</th>\n      <th>merchant_code</th>\n      <th>first_name</th>\n      <th>...</th>\n      <th>age</th>\n      <th>merchant_suburb</th>\n      <th>merchant_state</th>\n      <th>extraction</th>\n      <th>amount</th>\n      <th>transaction_id</th>\n      <th>country</th>\n      <th>customer_id</th>\n      <th>merchant_long_lat</th>\n      <th>movement</th>\n    </tr>\n  </thead>\n  <tbody>\n    <tr>\n      <th>0</th>\n      <td>authorized</td>\n      <td>1.0</td>\n      <td>NaN</td>\n      <td>ACC-1598451071</td>\n      <td>AUD</td>\n      <td>153.41 -27.95</td>\n      <td>POS</td>\n      <td>81c48296-73be-44a7-befa-d053f48ce7cd</td>\n      <td>NaN</td>\n      <td>Diana</td>\n      <td>...</td>\n      <td>26</td>\n      <td>Ashmore</td>\n      <td>QLD</td>\n      <td>2018-08-01T01:01:15.000+0000</td>\n      <td>16.25</td>\n      <td>a623070bfead4541a6b0fff8a09e706c</td>\n      <td>Australia</td>\n      <td>CUS-2487424745</td>\n      <td>153.38 -27.99</td>\n      <td>debit</td>\n    </tr>\n    <tr>\n      <th>1</th>\n      <td>authorized</td>\n      <td>0.0</td>\n      <td>NaN</td>\n      <td>ACC-1598451071</td>\n      <td>AUD</td>\n      <td>153.41 -27.95</td>\n      <td>SALES-POS</td>\n      <td>830a451c-316e-4a6a-bf25-e37caedca49e</td>\n      <td>NaN</td>\n      <td>Diana</td>\n      <td>...</td>\n      <td>26</td>\n      <td>Sydney</td>\n      <td>NSW</td>\n      <td>2018-08-01T01:13:45.000+0000</td>\n      <td>14.19</td>\n      <td>13270a2a902145da9db4c951e04b51b9</td>\n      <td>Australia</td>\n      <td>CUS-2487424745</td>\n      <td>151.21 -33.87</td>\n      <td>debit</td>\n    </tr>\n    <tr>\n      <th>2</th>\n      <td>authorized</td>\n      <td>1.0</td>\n      <td>NaN</td>\n      <td>ACC-1222300524</td>\n      <td>AUD</td>\n      <td>151.23 -33.94</td>\n      <td>POS</td>\n      <td>835c231d-8cdf-4e96-859d-e9d571760cf0</td>\n      <td>NaN</td>\n      <td>Michael</td>\n      <td>...</td>\n      <td>38</td>\n      <td>Sydney</td>\n      <td>NSW</td>\n      <td>2018-08-01T01:26:15.000+0000</td>\n      <td>6.42</td>\n      <td>feb79e7ecd7048a5a36ec889d1a94270</td>\n      <td>Australia</td>\n      <td>CUS-2142601169</td>\n      <td>151.21 -33.87</td>\n      <td>debit</td>\n    </tr>\n    <tr>\n      <th>3</th>\n      <td>authorized</td>\n      <td>1.0</td>\n      <td>NaN</td>\n      <td>ACC-1037050564</td>\n      <td>AUD</td>\n      <td>153.10 -27.66</td>\n      <td>SALES-POS</td>\n      <td>48514682-c78a-4a88-b0da-2d6302e64673</td>\n      <td>NaN</td>\n      <td>Rhonda</td>\n      <td>...</td>\n      <td>40</td>\n      <td>Buderim</td>\n      <td>QLD</td>\n      <td>2018-08-01T01:38:45.000+0000</td>\n      <td>40.90</td>\n      <td>2698170da3704fd981b15e64a006079e</td>\n      <td>Australia</td>\n      <td>CUS-1614226872</td>\n      <td>153.05 -26.68</td>\n      <td>debit</td>\n    </tr>\n    <tr>\n      <th>4</th>\n      <td>authorized</td>\n      <td>1.0</td>\n      <td>NaN</td>\n      <td>ACC-1598451071</td>\n      <td>AUD</td>\n      <td>153.41 -27.95</td>\n      <td>SALES-POS</td>\n      <td>b4e02c10-0852-4273-b8fd-7b3395e32eb0</td>\n      <td>NaN</td>\n      <td>Diana</td>\n      <td>...</td>\n      <td>26</td>\n      <td>Mermaid Beach</td>\n      <td>QLD</td>\n      <td>2018-08-01T01:51:15.000+0000</td>\n      <td>3.25</td>\n      <td>329adf79878c4cf0aeb4188b4691c266</td>\n      <td>Australia</td>\n      <td>CUS-2487424745</td>\n      <td>153.44 -28.06</td>\n      <td>debit</td>\n    </tr>\n  </tbody>\n</table>\n<p>5 rows × 23 columns</p>\n</div>",
            "text/plain": "       status  card_present_flag bpay_biller_code         account currency  \\\n0  authorized                1.0              NaN  ACC-1598451071      AUD   \n1  authorized                0.0              NaN  ACC-1598451071      AUD   \n2  authorized                1.0              NaN  ACC-1222300524      AUD   \n3  authorized                1.0              NaN  ACC-1037050564      AUD   \n4  authorized                1.0              NaN  ACC-1598451071      AUD   \n\n        long_lat txn_description                           merchant_id  \\\n0  153.41 -27.95             POS  81c48296-73be-44a7-befa-d053f48ce7cd   \n1  153.41 -27.95       SALES-POS  830a451c-316e-4a6a-bf25-e37caedca49e   \n2  151.23 -33.94             POS  835c231d-8cdf-4e96-859d-e9d571760cf0   \n3  153.10 -27.66       SALES-POS  48514682-c78a-4a88-b0da-2d6302e64673   \n4  153.41 -27.95       SALES-POS  b4e02c10-0852-4273-b8fd-7b3395e32eb0   \n\n   merchant_code first_name   ...     age merchant_suburb merchant_state  \\\n0            NaN      Diana   ...      26         Ashmore            QLD   \n1            NaN      Diana   ...      26          Sydney            NSW   \n2            NaN    Michael   ...      38          Sydney            NSW   \n3            NaN     Rhonda   ...      40         Buderim            QLD   \n4            NaN      Diana   ...      26   Mermaid Beach            QLD   \n\n                     extraction amount                    transaction_id  \\\n0  2018-08-01T01:01:15.000+0000  16.25  a623070bfead4541a6b0fff8a09e706c   \n1  2018-08-01T01:13:45.000+0000  14.19  13270a2a902145da9db4c951e04b51b9   \n2  2018-08-01T01:26:15.000+0000   6.42  feb79e7ecd7048a5a36ec889d1a94270   \n3  2018-08-01T01:38:45.000+0000  40.90  2698170da3704fd981b15e64a006079e   \n4  2018-08-01T01:51:15.000+0000   3.25  329adf79878c4cf0aeb4188b4691c266   \n\n     country     customer_id merchant_long_lat movement  \n0  Australia  CUS-2487424745     153.38 -27.99    debit  \n1  Australia  CUS-2487424745     151.21 -33.87    debit  \n2  Australia  CUS-2142601169     151.21 -33.87    debit  \n3  Australia  CUS-1614226872     153.05 -26.68    debit  \n4  Australia  CUS-2487424745     153.44 -28.06    debit  \n\n[5 rows x 23 columns]"
          },
          "metadata": {}
        }
      ]
    },
    {
      "metadata": {
        "trusted": true
      },
      "cell_type": "code",
      "source": "df.describe()",
      "execution_count": 5,
      "outputs": [
        {
          "output_type": "execute_result",
          "execution_count": 5,
          "data": {
            "text/html": "<div>\n<style scoped>\n    .dataframe tbody tr th:only-of-type {\n        vertical-align: middle;\n    }\n\n    .dataframe tbody tr th {\n        vertical-align: top;\n    }\n\n    .dataframe thead th {\n        text-align: right;\n    }\n</style>\n<table border=\"1\" class=\"dataframe\">\n  <thead>\n    <tr style=\"text-align: right;\">\n      <th></th>\n      <th>card_present_flag</th>\n      <th>merchant_code</th>\n      <th>balance</th>\n      <th>age</th>\n      <th>amount</th>\n    </tr>\n  </thead>\n  <tbody>\n    <tr>\n      <th>count</th>\n      <td>7717.000000</td>\n      <td>883.0</td>\n      <td>12043.000000</td>\n      <td>12043.000000</td>\n      <td>12043.000000</td>\n    </tr>\n    <tr>\n      <th>mean</th>\n      <td>0.802644</td>\n      <td>0.0</td>\n      <td>14704.195553</td>\n      <td>30.582330</td>\n      <td>187.933588</td>\n    </tr>\n    <tr>\n      <th>std</th>\n      <td>0.398029</td>\n      <td>0.0</td>\n      <td>31503.722652</td>\n      <td>10.046343</td>\n      <td>592.599934</td>\n    </tr>\n    <tr>\n      <th>min</th>\n      <td>0.000000</td>\n      <td>0.0</td>\n      <td>0.240000</td>\n      <td>18.000000</td>\n      <td>0.100000</td>\n    </tr>\n    <tr>\n      <th>25%</th>\n      <td>1.000000</td>\n      <td>0.0</td>\n      <td>3158.585000</td>\n      <td>22.000000</td>\n      <td>16.000000</td>\n    </tr>\n    <tr>\n      <th>50%</th>\n      <td>1.000000</td>\n      <td>0.0</td>\n      <td>6432.010000</td>\n      <td>28.000000</td>\n      <td>29.000000</td>\n    </tr>\n    <tr>\n      <th>75%</th>\n      <td>1.000000</td>\n      <td>0.0</td>\n      <td>12465.945000</td>\n      <td>38.000000</td>\n      <td>53.655000</td>\n    </tr>\n    <tr>\n      <th>max</th>\n      <td>1.000000</td>\n      <td>0.0</td>\n      <td>267128.520000</td>\n      <td>78.000000</td>\n      <td>8835.980000</td>\n    </tr>\n  </tbody>\n</table>\n</div>",
            "text/plain": "       card_present_flag  merchant_code        balance           age  \\\ncount        7717.000000          883.0   12043.000000  12043.000000   \nmean            0.802644            0.0   14704.195553     30.582330   \nstd             0.398029            0.0   31503.722652     10.046343   \nmin             0.000000            0.0       0.240000     18.000000   \n25%             1.000000            0.0    3158.585000     22.000000   \n50%             1.000000            0.0    6432.010000     28.000000   \n75%             1.000000            0.0   12465.945000     38.000000   \nmax             1.000000            0.0  267128.520000     78.000000   \n\n             amount  \ncount  12043.000000  \nmean     187.933588  \nstd      592.599934  \nmin        0.100000  \n25%       16.000000  \n50%       29.000000  \n75%       53.655000  \nmax     8835.980000  "
          },
          "metadata": {}
        }
      ]
    },
    {
      "metadata": {
        "trusted": true
      },
      "cell_type": "code",
      "source": "df.isnull().sum()",
      "execution_count": 6,
      "outputs": [
        {
          "output_type": "execute_result",
          "execution_count": 6,
          "data": {
            "text/plain": "status                   0\ncard_present_flag     4326\nbpay_biller_code     11158\naccount                  0\ncurrency                 0\nlong_lat                 0\ntxn_description          0\nmerchant_id           4326\nmerchant_code        11160\nfirst_name               0\nbalance                  0\ndate                     0\ngender                   0\nage                      0\nmerchant_suburb       4326\nmerchant_state        4326\nextraction               0\namount                   0\ntransaction_id           0\ncountry                  0\ncustomer_id              0\nmerchant_long_lat     4326\nmovement                 0\ndtype: int64"
          },
          "metadata": {}
        }
      ]
    },
    {
      "metadata": {
        "trusted": true
      },
      "cell_type": "code",
      "source": "duplicate =df.duplicated()\ndf[duplicate].sum()",
      "execution_count": 8,
      "outputs": [
        {
          "output_type": "execute_result",
          "execution_count": 8,
          "data": {
            "text/plain": "status               0.0\ncard_present_flag    0.0\nbpay_biller_code     0.0\naccount              0.0\ncurrency             0.0\nlong_lat             0.0\ntxn_description      0.0\nmerchant_id          0.0\nmerchant_code        0.0\nfirst_name           0.0\nbalance              0.0\ndate                 0.0\ngender               0.0\nage                  0.0\nmerchant_suburb      0.0\nmerchant_state       0.0\nextraction           0.0\namount               0.0\ntransaction_id       0.0\ncountry              0.0\ncustomer_id          0.0\nmerchant_long_lat    0.0\nmovement             0.0\ndtype: float64"
          },
          "metadata": {}
        }
      ]
    },
    {
      "metadata": {
        "trusted": true
      },
      "cell_type": "code",
      "source": "df.columns",
      "execution_count": 10,
      "outputs": [
        {
          "output_type": "execute_result",
          "execution_count": 10,
          "data": {
            "text/plain": "Index(['status', 'card_present_flag', 'bpay_biller_code', 'account',\n       'currency', 'long_lat', 'txn_description', 'merchant_id',\n       'merchant_code', 'first_name', 'balance', 'date', 'gender', 'age',\n       'merchant_suburb', 'merchant_state', 'extraction', 'amount',\n       'transaction_id', 'country', 'customer_id', 'merchant_long_lat',\n       'movement'],\n      dtype='object')"
          },
          "metadata": {}
        }
      ]
    },
    {
      "metadata": {
        "trusted": true
      },
      "cell_type": "code",
      "source": "df['txn_description'].value_counts()",
      "execution_count": 20,
      "outputs": [
        {
          "output_type": "execute_result",
          "execution_count": 20,
          "data": {
            "text/plain": "SALES-POS     3934\nPOS           3783\nPAYMENT       2600\nPAY/SALARY     883\nINTER BANK     742\nPHONE BANK     101\nName: txn_description, dtype: int64"
          },
          "metadata": {}
        }
      ]
    },
    {
      "metadata": {
        "trusted": true
      },
      "cell_type": "code",
      "source": "df['card_present_flag'].value_counts()",
      "execution_count": 23,
      "outputs": [
        {
          "output_type": "execute_result",
          "execution_count": 23,
          "data": {
            "text/plain": "1.0    6194\n0.0    1523\nName: card_present_flag, dtype: int64"
          },
          "metadata": {}
        }
      ]
    },
    {
      "metadata": {
        "trusted": true
      },
      "cell_type": "code",
      "source": "df[['customer_id','age','balance','amount','txn_description']]",
      "execution_count": 22,
      "outputs": [
        {
          "output_type": "execute_result",
          "execution_count": 22,
          "data": {
            "text/html": "<div>\n<style scoped>\n    .dataframe tbody tr th:only-of-type {\n        vertical-align: middle;\n    }\n\n    .dataframe tbody tr th {\n        vertical-align: top;\n    }\n\n    .dataframe thead th {\n        text-align: right;\n    }\n</style>\n<table border=\"1\" class=\"dataframe\">\n  <thead>\n    <tr style=\"text-align: right;\">\n      <th></th>\n      <th>customer_id</th>\n      <th>age</th>\n      <th>balance</th>\n      <th>amount</th>\n      <th>txn_description</th>\n    </tr>\n  </thead>\n  <tbody>\n    <tr>\n      <th>0</th>\n      <td>CUS-2487424745</td>\n      <td>26</td>\n      <td>35.39</td>\n      <td>16.25</td>\n      <td>POS</td>\n    </tr>\n    <tr>\n      <th>1</th>\n      <td>CUS-2487424745</td>\n      <td>26</td>\n      <td>21.20</td>\n      <td>14.19</td>\n      <td>SALES-POS</td>\n    </tr>\n    <tr>\n      <th>2</th>\n      <td>CUS-2142601169</td>\n      <td>38</td>\n      <td>5.71</td>\n      <td>6.42</td>\n      <td>POS</td>\n    </tr>\n    <tr>\n      <th>3</th>\n      <td>CUS-1614226872</td>\n      <td>40</td>\n      <td>2117.22</td>\n      <td>40.90</td>\n      <td>SALES-POS</td>\n    </tr>\n    <tr>\n      <th>4</th>\n      <td>CUS-2487424745</td>\n      <td>26</td>\n      <td>17.95</td>\n      <td>3.25</td>\n      <td>SALES-POS</td>\n    </tr>\n    <tr>\n      <th>5</th>\n      <td>CUS-2688605418</td>\n      <td>20</td>\n      <td>1705.43</td>\n      <td>163.00</td>\n      <td>PAYMENT</td>\n    </tr>\n    <tr>\n      <th>6</th>\n      <td>CUS-4123612273</td>\n      <td>43</td>\n      <td>1248.36</td>\n      <td>61.06</td>\n      <td>SALES-POS</td>\n    </tr>\n    <tr>\n      <th>7</th>\n      <td>CUS-4123612273</td>\n      <td>43</td>\n      <td>1232.75</td>\n      <td>15.61</td>\n      <td>POS</td>\n    </tr>\n    <tr>\n      <th>8</th>\n      <td>CUS-3026014945</td>\n      <td>27</td>\n      <td>213.16</td>\n      <td>19.25</td>\n      <td>POS</td>\n    </tr>\n    <tr>\n      <th>9</th>\n      <td>CUS-2031327464</td>\n      <td>40</td>\n      <td>466.58</td>\n      <td>21.00</td>\n      <td>INTER BANK</td>\n    </tr>\n    <tr>\n      <th>10</th>\n      <td>CUS-2317998716</td>\n      <td>19</td>\n      <td>4348.50</td>\n      <td>27.00</td>\n      <td>PAYMENT</td>\n    </tr>\n    <tr>\n      <th>11</th>\n      <td>CUS-4123612273</td>\n      <td>43</td>\n      <td>1203.75</td>\n      <td>29.00</td>\n      <td>PAYMENT</td>\n    </tr>\n    <tr>\n      <th>12</th>\n      <td>CUS-3026014945</td>\n      <td>27</td>\n      <td>207.08</td>\n      <td>6.08</td>\n      <td>SALES-POS</td>\n    </tr>\n    <tr>\n      <th>13</th>\n      <td>CUS-1462656821</td>\n      <td>23</td>\n      <td>4438.16</td>\n      <td>25.00</td>\n      <td>INTER BANK</td>\n    </tr>\n    <tr>\n      <th>14</th>\n      <td>CUS-3142625864</td>\n      <td>43</td>\n      <td>173.66</td>\n      <td>39.00</td>\n      <td>INTER BANK</td>\n    </tr>\n    <tr>\n      <th>15</th>\n      <td>CUS-860700529</td>\n      <td>30</td>\n      <td>2.85</td>\n      <td>10.79</td>\n      <td>POS</td>\n    </tr>\n    <tr>\n      <th>16</th>\n      <td>CUS-2370108457</td>\n      <td>46</td>\n      <td>260514.83</td>\n      <td>22.00</td>\n      <td>INTER BANK</td>\n    </tr>\n    <tr>\n      <th>17</th>\n      <td>CUS-2630892467</td>\n      <td>26</td>\n      <td>3117.94</td>\n      <td>55.00</td>\n      <td>PAYMENT</td>\n    </tr>\n    <tr>\n      <th>18</th>\n      <td>CUS-3716701010</td>\n      <td>47</td>\n      <td>38.31</td>\n      <td>58.00</td>\n      <td>PAYMENT</td>\n    </tr>\n    <tr>\n      <th>19</th>\n      <td>CUS-3378712515</td>\n      <td>24</td>\n      <td>708.28</td>\n      <td>7.37</td>\n      <td>POS</td>\n    </tr>\n    <tr>\n      <th>20</th>\n      <td>CUS-2487424745</td>\n      <td>26</td>\n      <td>3.85</td>\n      <td>14.10</td>\n      <td>POS</td>\n    </tr>\n    <tr>\n      <th>21</th>\n      <td>CUS-2695611575</td>\n      <td>37</td>\n      <td>275.93</td>\n      <td>24.77</td>\n      <td>POS</td>\n    </tr>\n    <tr>\n      <th>22</th>\n      <td>CUS-1669695324</td>\n      <td>25</td>\n      <td>259.37</td>\n      <td>13.67</td>\n      <td>SALES-POS</td>\n    </tr>\n    <tr>\n      <th>23</th>\n      <td>CUS-3255104878</td>\n      <td>43</td>\n      <td>30583.15</td>\n      <td>12.08</td>\n      <td>POS</td>\n    </tr>\n    <tr>\n      <th>24</th>\n      <td>CUS-537508723</td>\n      <td>21</td>\n      <td>793.64</td>\n      <td>72.12</td>\n      <td>POS</td>\n    </tr>\n    <tr>\n      <th>25</th>\n      <td>CUS-2376382098</td>\n      <td>39</td>\n      <td>4474.38</td>\n      <td>25.00</td>\n      <td>INTER BANK</td>\n    </tr>\n    <tr>\n      <th>26</th>\n      <td>CUS-3129499595</td>\n      <td>31</td>\n      <td>586.20</td>\n      <td>36.00</td>\n      <td>PAYMENT</td>\n    </tr>\n    <tr>\n      <th>27</th>\n      <td>CUS-883482547</td>\n      <td>19</td>\n      <td>1636.91</td>\n      <td>17.96</td>\n      <td>SALES-POS</td>\n    </tr>\n    <tr>\n      <th>28</th>\n      <td>CUS-51506836</td>\n      <td>24</td>\n      <td>11525.54</td>\n      <td>14.49</td>\n      <td>SALES-POS</td>\n    </tr>\n    <tr>\n      <th>29</th>\n      <td>CUS-883482547</td>\n      <td>19</td>\n      <td>1625.34</td>\n      <td>11.57</td>\n      <td>SALES-POS</td>\n    </tr>\n    <tr>\n      <th>...</th>\n      <td>...</td>\n      <td>...</td>\n      <td>...</td>\n      <td>...</td>\n      <td>...</td>\n    </tr>\n    <tr>\n      <th>12013</th>\n      <td>CUS-2487424745</td>\n      <td>26</td>\n      <td>2220.14</td>\n      <td>16.30</td>\n      <td>SALES-POS</td>\n    </tr>\n    <tr>\n      <th>12014</th>\n      <td>CUS-1790886359</td>\n      <td>39</td>\n      <td>18159.50</td>\n      <td>48.00</td>\n      <td>PAYMENT</td>\n    </tr>\n    <tr>\n      <th>12015</th>\n      <td>CUS-2487424745</td>\n      <td>26</td>\n      <td>2194.26</td>\n      <td>25.88</td>\n      <td>POS</td>\n    </tr>\n    <tr>\n      <th>12016</th>\n      <td>CUS-443776336</td>\n      <td>19</td>\n      <td>12963.75</td>\n      <td>9.90</td>\n      <td>SALES-POS</td>\n    </tr>\n    <tr>\n      <th>12017</th>\n      <td>CUS-2487424745</td>\n      <td>26</td>\n      <td>2148.06</td>\n      <td>46.20</td>\n      <td>POS</td>\n    </tr>\n    <tr>\n      <th>12018</th>\n      <td>CUS-2178051368</td>\n      <td>25</td>\n      <td>10471.98</td>\n      <td>34.31</td>\n      <td>POS</td>\n    </tr>\n    <tr>\n      <th>12019</th>\n      <td>CUS-72755508</td>\n      <td>35</td>\n      <td>7036.56</td>\n      <td>70.58</td>\n      <td>POS</td>\n    </tr>\n    <tr>\n      <th>12020</th>\n      <td>CUS-2317998716</td>\n      <td>19</td>\n      <td>19876.45</td>\n      <td>17.00</td>\n      <td>PAYMENT</td>\n    </tr>\n    <tr>\n      <th>12021</th>\n      <td>CUS-2500783281</td>\n      <td>23</td>\n      <td>19547.32</td>\n      <td>33.00</td>\n      <td>PAYMENT</td>\n    </tr>\n    <tr>\n      <th>12022</th>\n      <td>CUS-3026014945</td>\n      <td>27</td>\n      <td>10920.17</td>\n      <td>33.00</td>\n      <td>INTER BANK</td>\n    </tr>\n    <tr>\n      <th>12023</th>\n      <td>CUS-3151318058</td>\n      <td>42</td>\n      <td>43543.84</td>\n      <td>36.00</td>\n      <td>PHONE BANK</td>\n    </tr>\n    <tr>\n      <th>12024</th>\n      <td>CUS-2206365095</td>\n      <td>38</td>\n      <td>22324.96</td>\n      <td>17.72</td>\n      <td>SALES-POS</td>\n    </tr>\n    <tr>\n      <th>12025</th>\n      <td>CUS-55310383</td>\n      <td>30</td>\n      <td>14063.93</td>\n      <td>26.37</td>\n      <td>SALES-POS</td>\n    </tr>\n    <tr>\n      <th>12026</th>\n      <td>CUS-2348881191</td>\n      <td>41</td>\n      <td>8127.27</td>\n      <td>43.00</td>\n      <td>INTER BANK</td>\n    </tr>\n    <tr>\n      <th>12027</th>\n      <td>CUS-3180318393</td>\n      <td>27</td>\n      <td>13537.75</td>\n      <td>67.00</td>\n      <td>PHONE BANK</td>\n    </tr>\n    <tr>\n      <th>12028</th>\n      <td>CUS-2487424745</td>\n      <td>26</td>\n      <td>2134.86</td>\n      <td>13.20</td>\n      <td>SALES-POS</td>\n    </tr>\n    <tr>\n      <th>12029</th>\n      <td>CUS-2206365095</td>\n      <td>38</td>\n      <td>22231.50</td>\n      <td>93.46</td>\n      <td>SALES-POS</td>\n    </tr>\n    <tr>\n      <th>12030</th>\n      <td>CUS-3129499595</td>\n      <td>31</td>\n      <td>5610.78</td>\n      <td>234.90</td>\n      <td>SALES-POS</td>\n    </tr>\n    <tr>\n      <th>12031</th>\n      <td>CUS-3129499595</td>\n      <td>31</td>\n      <td>5540.27</td>\n      <td>70.51</td>\n      <td>SALES-POS</td>\n    </tr>\n    <tr>\n      <th>12032</th>\n      <td>CUS-883482547</td>\n      <td>19</td>\n      <td>20699.90</td>\n      <td>33.00</td>\n      <td>PAYMENT</td>\n    </tr>\n    <tr>\n      <th>12033</th>\n      <td>CUS-2178051368</td>\n      <td>25</td>\n      <td>10445.39</td>\n      <td>26.59</td>\n      <td>SALES-POS</td>\n    </tr>\n    <tr>\n      <th>12034</th>\n      <td>CUS-325142416</td>\n      <td>21</td>\n      <td>4946.62</td>\n      <td>23.48</td>\n      <td>POS</td>\n    </tr>\n    <tr>\n      <th>12035</th>\n      <td>CUS-1646621553</td>\n      <td>26</td>\n      <td>9349.51</td>\n      <td>29.00</td>\n      <td>PAYMENT</td>\n    </tr>\n    <tr>\n      <th>12036</th>\n      <td>CUS-1790886359</td>\n      <td>39</td>\n      <td>18127.50</td>\n      <td>32.00</td>\n      <td>PAYMENT</td>\n    </tr>\n    <tr>\n      <th>12037</th>\n      <td>CUS-261674136</td>\n      <td>29</td>\n      <td>24775.66</td>\n      <td>39.00</td>\n      <td>PAYMENT</td>\n    </tr>\n    <tr>\n      <th>12038</th>\n      <td>CUS-55310383</td>\n      <td>30</td>\n      <td>14054.14</td>\n      <td>9.79</td>\n      <td>POS</td>\n    </tr>\n    <tr>\n      <th>12039</th>\n      <td>CUS-2688605418</td>\n      <td>20</td>\n      <td>9137.79</td>\n      <td>63.87</td>\n      <td>SALES-POS</td>\n    </tr>\n    <tr>\n      <th>12040</th>\n      <td>CUS-2663907001</td>\n      <td>28</td>\n      <td>45394.57</td>\n      <td>43.96</td>\n      <td>POS</td>\n    </tr>\n    <tr>\n      <th>12041</th>\n      <td>CUS-1388323263</td>\n      <td>69</td>\n      <td>11350.67</td>\n      <td>30.77</td>\n      <td>SALES-POS</td>\n    </tr>\n    <tr>\n      <th>12042</th>\n      <td>CUS-3129499595</td>\n      <td>31</td>\n      <td>5517.91</td>\n      <td>22.36</td>\n      <td>SALES-POS</td>\n    </tr>\n  </tbody>\n</table>\n<p>12043 rows × 5 columns</p>\n</div>",
            "text/plain": "          customer_id  age    balance  amount txn_description\n0      CUS-2487424745   26      35.39   16.25             POS\n1      CUS-2487424745   26      21.20   14.19       SALES-POS\n2      CUS-2142601169   38       5.71    6.42             POS\n3      CUS-1614226872   40    2117.22   40.90       SALES-POS\n4      CUS-2487424745   26      17.95    3.25       SALES-POS\n5      CUS-2688605418   20    1705.43  163.00         PAYMENT\n6      CUS-4123612273   43    1248.36   61.06       SALES-POS\n7      CUS-4123612273   43    1232.75   15.61             POS\n8      CUS-3026014945   27     213.16   19.25             POS\n9      CUS-2031327464   40     466.58   21.00      INTER BANK\n10     CUS-2317998716   19    4348.50   27.00         PAYMENT\n11     CUS-4123612273   43    1203.75   29.00         PAYMENT\n12     CUS-3026014945   27     207.08    6.08       SALES-POS\n13     CUS-1462656821   23    4438.16   25.00      INTER BANK\n14     CUS-3142625864   43     173.66   39.00      INTER BANK\n15      CUS-860700529   30       2.85   10.79             POS\n16     CUS-2370108457   46  260514.83   22.00      INTER BANK\n17     CUS-2630892467   26    3117.94   55.00         PAYMENT\n18     CUS-3716701010   47      38.31   58.00         PAYMENT\n19     CUS-3378712515   24     708.28    7.37             POS\n20     CUS-2487424745   26       3.85   14.10             POS\n21     CUS-2695611575   37     275.93   24.77             POS\n22     CUS-1669695324   25     259.37   13.67       SALES-POS\n23     CUS-3255104878   43   30583.15   12.08             POS\n24      CUS-537508723   21     793.64   72.12             POS\n25     CUS-2376382098   39    4474.38   25.00      INTER BANK\n26     CUS-3129499595   31     586.20   36.00         PAYMENT\n27      CUS-883482547   19    1636.91   17.96       SALES-POS\n28       CUS-51506836   24   11525.54   14.49       SALES-POS\n29      CUS-883482547   19    1625.34   11.57       SALES-POS\n...               ...  ...        ...     ...             ...\n12013  CUS-2487424745   26    2220.14   16.30       SALES-POS\n12014  CUS-1790886359   39   18159.50   48.00         PAYMENT\n12015  CUS-2487424745   26    2194.26   25.88             POS\n12016   CUS-443776336   19   12963.75    9.90       SALES-POS\n12017  CUS-2487424745   26    2148.06   46.20             POS\n12018  CUS-2178051368   25   10471.98   34.31             POS\n12019    CUS-72755508   35    7036.56   70.58             POS\n12020  CUS-2317998716   19   19876.45   17.00         PAYMENT\n12021  CUS-2500783281   23   19547.32   33.00         PAYMENT\n12022  CUS-3026014945   27   10920.17   33.00      INTER BANK\n12023  CUS-3151318058   42   43543.84   36.00      PHONE BANK\n12024  CUS-2206365095   38   22324.96   17.72       SALES-POS\n12025    CUS-55310383   30   14063.93   26.37       SALES-POS\n12026  CUS-2348881191   41    8127.27   43.00      INTER BANK\n12027  CUS-3180318393   27   13537.75   67.00      PHONE BANK\n12028  CUS-2487424745   26    2134.86   13.20       SALES-POS\n12029  CUS-2206365095   38   22231.50   93.46       SALES-POS\n12030  CUS-3129499595   31    5610.78  234.90       SALES-POS\n12031  CUS-3129499595   31    5540.27   70.51       SALES-POS\n12032   CUS-883482547   19   20699.90   33.00         PAYMENT\n12033  CUS-2178051368   25   10445.39   26.59       SALES-POS\n12034   CUS-325142416   21    4946.62   23.48             POS\n12035  CUS-1646621553   26    9349.51   29.00         PAYMENT\n12036  CUS-1790886359   39   18127.50   32.00         PAYMENT\n12037   CUS-261674136   29   24775.66   39.00         PAYMENT\n12038    CUS-55310383   30   14054.14    9.79             POS\n12039  CUS-2688605418   20    9137.79   63.87       SALES-POS\n12040  CUS-2663907001   28   45394.57   43.96             POS\n12041  CUS-1388323263   69   11350.67   30.77       SALES-POS\n12042  CUS-3129499595   31    5517.91   22.36       SALES-POS\n\n[12043 rows x 5 columns]"
          },
          "metadata": {}
        }
      ]
    },
    {
      "metadata": {},
      "cell_type": "markdown",
      "source": "## Consider 'pay/salary' option for salaries "
    },
    {
      "metadata": {
        "trusted": true
      },
      "cell_type": "code",
      "source": "df_salaries = df[df[\"txn_description\"]==\"PAY/SALARY\"].groupby(\"customer_id\").mean()\ndf_salaries.head()",
      "execution_count": 29,
      "outputs": [
        {
          "output_type": "execute_result",
          "execution_count": 29,
          "data": {
            "text/html": "<div>\n<style scoped>\n    .dataframe tbody tr th:only-of-type {\n        vertical-align: middle;\n    }\n\n    .dataframe tbody tr th {\n        vertical-align: top;\n    }\n\n    .dataframe thead th {\n        text-align: right;\n    }\n</style>\n<table border=\"1\" class=\"dataframe\">\n  <thead>\n    <tr style=\"text-align: right;\">\n      <th></th>\n      <th>card_present_flag</th>\n      <th>merchant_code</th>\n      <th>balance</th>\n      <th>age</th>\n      <th>amount</th>\n    </tr>\n    <tr>\n      <th>customer_id</th>\n      <th></th>\n      <th></th>\n      <th></th>\n      <th></th>\n      <th></th>\n    </tr>\n  </thead>\n  <tbody>\n    <tr>\n      <th>CUS-1005756958</th>\n      <td>NaN</td>\n      <td>0.0</td>\n      <td>4718.665385</td>\n      <td>53</td>\n      <td>970.47</td>\n    </tr>\n    <tr>\n      <th>CUS-1117979751</th>\n      <td>NaN</td>\n      <td>0.0</td>\n      <td>11957.202857</td>\n      <td>21</td>\n      <td>3578.65</td>\n    </tr>\n    <tr>\n      <th>CUS-1140341822</th>\n      <td>NaN</td>\n      <td>0.0</td>\n      <td>5841.720000</td>\n      <td>28</td>\n      <td>1916.51</td>\n    </tr>\n    <tr>\n      <th>CUS-1147642491</th>\n      <td>NaN</td>\n      <td>0.0</td>\n      <td>8813.467692</td>\n      <td>34</td>\n      <td>1711.39</td>\n    </tr>\n    <tr>\n      <th>CUS-1196156254</th>\n      <td>NaN</td>\n      <td>0.0</td>\n      <td>23845.717143</td>\n      <td>34</td>\n      <td>3903.73</td>\n    </tr>\n  </tbody>\n</table>\n</div>",
            "text/plain": "                card_present_flag  merchant_code       balance  age   amount\ncustomer_id                                                                 \nCUS-1005756958                NaN            0.0   4718.665385   53   970.47\nCUS-1117979751                NaN            0.0  11957.202857   21  3578.65\nCUS-1140341822                NaN            0.0   5841.720000   28  1916.51\nCUS-1147642491                NaN            0.0   8813.467692   34  1711.39\nCUS-1196156254                NaN            0.0  23845.717143   34  3903.73"
          },
          "metadata": {}
        }
      ]
    },
    {
      "metadata": {
        "trusted": true
      },
      "cell_type": "code",
      "source": "#df[df['customer_id']=='CUS-1005756958']",
      "execution_count": 30,
      "outputs": []
    },
    {
      "metadata": {},
      "cell_type": "markdown",
      "source": "##  From here we can analyze different parameters "
    },
    {
      "metadata": {
        "trusted": true
      },
      "cell_type": "code",
      "source": "df_salaries.describe()",
      "execution_count": 36,
      "outputs": [
        {
          "output_type": "execute_result",
          "execution_count": 36,
          "data": {
            "text/html": "<div>\n<style scoped>\n    .dataframe tbody tr th:only-of-type {\n        vertical-align: middle;\n    }\n\n    .dataframe tbody tr th {\n        vertical-align: top;\n    }\n\n    .dataframe thead th {\n        text-align: right;\n    }\n</style>\n<table border=\"1\" class=\"dataframe\">\n  <thead>\n    <tr style=\"text-align: right;\">\n      <th></th>\n      <th>card_present_flag</th>\n      <th>merchant_code</th>\n      <th>balance</th>\n      <th>age</th>\n      <th>amount</th>\n    </tr>\n  </thead>\n  <tbody>\n    <tr>\n      <th>count</th>\n      <td>0.0</td>\n      <td>100.0</td>\n      <td>100.000000</td>\n      <td>100.000000</td>\n      <td>100.00000</td>\n    </tr>\n    <tr>\n      <th>mean</th>\n      <td>NaN</td>\n      <td>0.0</td>\n      <td>18820.063327</td>\n      <td>31.770000</td>\n      <td>2297.27390</td>\n    </tr>\n    <tr>\n      <th>std</th>\n      <td>NaN</td>\n      <td>0.0</td>\n      <td>35494.157715</td>\n      <td>11.544254</td>\n      <td>1397.78397</td>\n    </tr>\n    <tr>\n      <th>min</th>\n      <td>NaN</td>\n      <td>0.0</td>\n      <td>1755.892308</td>\n      <td>18.000000</td>\n      <td>576.00000</td>\n    </tr>\n    <tr>\n      <th>25%</th>\n      <td>NaN</td>\n      <td>0.0</td>\n      <td>5414.601875</td>\n      <td>22.000000</td>\n      <td>1153.31000</td>\n    </tr>\n    <tr>\n      <th>50%</th>\n      <td>NaN</td>\n      <td>0.0</td>\n      <td>8319.729524</td>\n      <td>29.500000</td>\n      <td>1949.43000</td>\n    </tr>\n    <tr>\n      <th>75%</th>\n      <td>NaN</td>\n      <td>0.0</td>\n      <td>14370.677582</td>\n      <td>39.250000</td>\n      <td>2886.72500</td>\n    </tr>\n    <tr>\n      <th>max</th>\n      <td>NaN</td>\n      <td>0.0</td>\n      <td>264128.046667</td>\n      <td>78.000000</td>\n      <td>8835.98000</td>\n    </tr>\n  </tbody>\n</table>\n</div>",
            "text/plain": "       card_present_flag  merchant_code        balance         age      amount\ncount                0.0          100.0     100.000000  100.000000   100.00000\nmean                 NaN            0.0   18820.063327   31.770000  2297.27390\nstd                  NaN            0.0   35494.157715   11.544254  1397.78397\nmin                  NaN            0.0    1755.892308   18.000000   576.00000\n25%                  NaN            0.0    5414.601875   22.000000  1153.31000\n50%                  NaN            0.0    8319.729524   29.500000  1949.43000\n75%                  NaN            0.0   14370.677582   39.250000  2886.72500\nmax                  NaN            0.0  264128.046667   78.000000  8835.98000"
          },
          "metadata": {}
        }
      ]
    },
    {
      "metadata": {},
      "cell_type": "markdown",
      "source": "## Compute annual salaries"
    },
    {
      "metadata": {
        "trusted": true
      },
      "cell_type": "code",
      "source": "salaries = []\n\nfor customer_id in df[\"customer_id\"]:\n    salaries.append(int(df_salaries.loc[customer_id][\"amount\"]))\n    \ndf[\"annual_salary\"] = salaries",
      "execution_count": 37,
      "outputs": []
    },
    {
      "metadata": {
        "trusted": true
      },
      "cell_type": "code",
      "source": "df_customer=df.groupby('customer_id').mean()\ndf_customer.head()",
      "execution_count": 38,
      "outputs": [
        {
          "output_type": "execute_result",
          "execution_count": 38,
          "data": {
            "text/html": "<div>\n<style scoped>\n    .dataframe tbody tr th:only-of-type {\n        vertical-align: middle;\n    }\n\n    .dataframe tbody tr th {\n        vertical-align: top;\n    }\n\n    .dataframe thead th {\n        text-align: right;\n    }\n</style>\n<table border=\"1\" class=\"dataframe\">\n  <thead>\n    <tr style=\"text-align: right;\">\n      <th></th>\n      <th>card_present_flag</th>\n      <th>merchant_code</th>\n      <th>balance</th>\n      <th>age</th>\n      <th>amount</th>\n      <th>annual_salary</th>\n    </tr>\n    <tr>\n      <th>customer_id</th>\n      <th></th>\n      <th></th>\n      <th></th>\n      <th></th>\n      <th></th>\n      <th></th>\n    </tr>\n  </thead>\n  <tbody>\n    <tr>\n      <th>CUS-1005756958</th>\n      <td>0.812500</td>\n      <td>0.0</td>\n      <td>2275.852055</td>\n      <td>53</td>\n      <td>222.862603</td>\n      <td>970</td>\n    </tr>\n    <tr>\n      <th>CUS-1117979751</th>\n      <td>0.826923</td>\n      <td>0.0</td>\n      <td>9829.929000</td>\n      <td>21</td>\n      <td>339.843700</td>\n      <td>3578</td>\n    </tr>\n    <tr>\n      <th>CUS-1140341822</th>\n      <td>0.815385</td>\n      <td>0.0</td>\n      <td>5699.212250</td>\n      <td>28</td>\n      <td>212.632500</td>\n      <td>1916</td>\n    </tr>\n    <tr>\n      <th>CUS-1147642491</th>\n      <td>0.750000</td>\n      <td>0.0</td>\n      <td>9032.841186</td>\n      <td>34</td>\n      <td>245.600169</td>\n      <td>1711</td>\n    </tr>\n    <tr>\n      <th>CUS-1196156254</th>\n      <td>0.785276</td>\n      <td>0.0</td>\n      <td>22272.433755</td>\n      <td>34</td>\n      <td>147.145796</td>\n      <td>3903</td>\n    </tr>\n  </tbody>\n</table>\n</div>",
            "text/plain": "                card_present_flag  merchant_code       balance  age  \\\ncustomer_id                                                           \nCUS-1005756958           0.812500            0.0   2275.852055   53   \nCUS-1117979751           0.826923            0.0   9829.929000   21   \nCUS-1140341822           0.815385            0.0   5699.212250   28   \nCUS-1147642491           0.750000            0.0   9032.841186   34   \nCUS-1196156254           0.785276            0.0  22272.433755   34   \n\n                    amount  annual_salary  \ncustomer_id                                \nCUS-1005756958  222.862603            970  \nCUS-1117979751  339.843700           3578  \nCUS-1140341822  212.632500           1916  \nCUS-1147642491  245.600169           1711  \nCUS-1196156254  147.145796           3903  "
          },
          "metadata": {}
        }
      ]
    },
    {
      "metadata": {
        "trusted": true
      },
      "cell_type": "code",
      "source": "df_customer=df_customer.drop(['merchant_code'],axis=1)",
      "execution_count": 51,
      "outputs": []
    },
    {
      "metadata": {},
      "cell_type": "markdown",
      "source": "## Visualization"
    },
    {
      "metadata": {
        "trusted": true
      },
      "cell_type": "code",
      "source": "sns.jointplot(x='age',y='annual_salary',data=df_customer,kind='kde')",
      "execution_count": 52,
      "outputs": [
        {
          "output_type": "execute_result",
          "execution_count": 52,
          "data": {
            "text/plain": "<seaborn.axisgrid.JointGrid at 0x7f42e9f08198>"
          },
          "metadata": {}
        },
        {
          "output_type": "display_data",
          "data": {
            "image/png": "[encoded data removed]",
            "text/plain": "<Figure size 432x432 with 3 Axes>"
          },
          "metadata": {
            "needs_background": "light"
          }
        }
      ]
    },
    {
      "metadata": {
        "trusted": true
      },
      "cell_type": "code",
      "source": "sns.jointplot(x='age',y='annual_salary',data=df_customer,kind='reg')",
      "execution_count": 56,
      "outputs": [
        {
          "output_type": "execute_result",
          "execution_count": 56,
          "data": {
            "text/plain": "<seaborn.axisgrid.JointGrid at 0x7f42ebf521d0>"
          },
          "metadata": {}
        },
        {
          "output_type": "display_data",
          "data": {
            "image/png": "[encoded data removed]",
            "text/plain": "<Figure size 432x432 with 3 Axes>"
          },
          "metadata": {
            "needs_background": "light"
          }
        }
      ]
    },
    {
      "metadata": {
        "trusted": true
      },
      "cell_type": "code",
      "source": "df_customer.corr()",
      "execution_count": 54,
      "outputs": [
        {
          "output_type": "execute_result",
          "execution_count": 54,
          "data": {
            "text/html": "<div>\n<style scoped>\n    .dataframe tbody tr th:only-of-type {\n        vertical-align: middle;\n    }\n\n    .dataframe tbody tr th {\n        vertical-align: top;\n    }\n\n    .dataframe thead th {\n        text-align: right;\n    }\n</style>\n<table border=\"1\" class=\"dataframe\">\n  <thead>\n    <tr style=\"text-align: right;\">\n      <th></th>\n      <th>card_present_flag</th>\n      <th>balance</th>\n      <th>age</th>\n      <th>amount</th>\n      <th>annual_salary</th>\n    </tr>\n  </thead>\n  <tbody>\n    <tr>\n      <th>card_present_flag</th>\n      <td>1.000000</td>\n      <td>0.011628</td>\n      <td>-0.001336</td>\n      <td>-0.281077</td>\n      <td>-0.147631</td>\n    </tr>\n    <tr>\n      <th>balance</th>\n      <td>0.011628</td>\n      <td>1.000000</td>\n      <td>0.231963</td>\n      <td>0.272791</td>\n      <td>0.205643</td>\n    </tr>\n    <tr>\n      <th>age</th>\n      <td>-0.001336</td>\n      <td>0.231963</td>\n      <td>1.000000</td>\n      <td>0.175525</td>\n      <td>-0.135227</td>\n    </tr>\n    <tr>\n      <th>amount</th>\n      <td>-0.281077</td>\n      <td>0.272791</td>\n      <td>0.175525</td>\n      <td>1.000000</td>\n      <td>0.289440</td>\n    </tr>\n    <tr>\n      <th>annual_salary</th>\n      <td>-0.147631</td>\n      <td>0.205643</td>\n      <td>-0.135227</td>\n      <td>0.289440</td>\n      <td>1.000000</td>\n    </tr>\n  </tbody>\n</table>\n</div>",
            "text/plain": "                   card_present_flag   balance       age    amount  \\\ncard_present_flag           1.000000  0.011628 -0.001336 -0.281077   \nbalance                     0.011628  1.000000  0.231963  0.272791   \nage                        -0.001336  0.231963  1.000000  0.175525   \namount                     -0.281077  0.272791  0.175525  1.000000   \nannual_salary              -0.147631  0.205643 -0.135227  0.289440   \n\n                   annual_salary  \ncard_present_flag      -0.147631  \nbalance                 0.205643  \nage                    -0.135227  \namount                  0.289440  \nannual_salary           1.000000  "
          },
          "metadata": {}
        }
      ]
    },
    {
      "metadata": {
        "trusted": true
      },
      "cell_type": "code",
      "source": "sns.heatmap(df_customer.corr())",
      "execution_count": 55,
      "outputs": [
        {
          "output_type": "execute_result",
          "execution_count": 55,
          "data": {
            "text/plain": "<matplotlib.axes._subplots.AxesSubplot at 0x7f42e9b12d30>"
          },
          "metadata": {}
        },
        {
          "output_type": "display_data",
          "data": {
            "image/png": "[encoded data removed]",
            "text/plain": "<Figure size 432x288 with 2 Axes>"
          },
          "metadata": {
            "needs_background": "light"
          }
        }
      ]
    },
    {
      "metadata": {},
      "cell_type": "markdown",
      "source": "## Predective Analysis"
    },
    {
      "metadata": {
        "trusted": true
      },
      "cell_type": "code",
      "source": "N_train = int(len(df_customer)*0.8)\nX_train = df_customer.drop(\"annual_salary\", axis=1).iloc[:N_train]\nY_train = df_customer[\"annual_salary\"].iloc[:N_train]\nX_test = df_customer.drop(\"annual_salary\", axis=1).iloc[N_train:]\nY_test = df_customer[\"annual_salary\"].iloc[N_train:] ",
      "execution_count": 59,
      "outputs": []
    },
    {
      "metadata": {
        "trusted": true
      },
      "cell_type": "code",
      "source": "linear_reg = LinearRegression()\n",
      "execution_count": 60,
      "outputs": []
    },
    {
      "metadata": {
        "trusted": true
      },
      "cell_type": "code",
      "source": "linear_reg.fit(X_train, Y_train)\nlinear_reg.score(X_train, Y_train)",
      "execution_count": 62,
      "outputs": [
        {
          "output_type": "execute_result",
          "execution_count": 62,
          "data": {
            "text/plain": "0.23295376366257825"
          },
          "metadata": {}
        }
      ]
    },
    {
      "metadata": {
        "trusted": true
      },
      "cell_type": "code",
      "source": "linear_reg.predict(X_test)",
      "execution_count": 63,
      "outputs": [
        {
          "output_type": "execute_result",
          "execution_count": 63,
          "data": {
            "text/plain": "array([1993.98473311, 2867.39066481, 1944.95959591, 1806.85984885,\n       2226.35045442, 2075.34697175, 1813.02987337, 5388.67435983,\n       1902.35351608, 2191.90445145, 1713.48134178, 2854.40519949,\n       2094.77781158, 3815.34342881, 2249.92922822, 1768.80816189,\n       2095.02988288, 1515.18425875, 1782.72752537, 2481.2898546 ])"
          },
          "metadata": {}
        }
      ]
    },
    {
      "metadata": {
        "trusted": true
      },
      "cell_type": "code",
      "source": "linear_reg.score(X_test, Y_test)",
      "execution_count": 64,
      "outputs": [
        {
          "output_type": "execute_result",
          "execution_count": 64,
          "data": {
            "text/plain": "-0.31694234980745595"
          },
          "metadata": {}
        }
      ]
    },
    {
      "metadata": {},
      "cell_type": "markdown",
      "source": "## Decision Tree - Classification and Regression"
    },
    {
      "metadata": {
        "trusted": true
      },
      "cell_type": "code",
      "source": "df_cat = df[[\"txn_description\", \"gender\", \"age\", \"merchant_state\", \"movement\"]]\n",
      "execution_count": 65,
      "outputs": []
    },
    {
      "metadata": {
        "trusted": true
      },
      "cell_type": "code",
      "source": "pd.get_dummies(df_cat).head()",
      "execution_count": 67,
      "outputs": [
        {
          "output_type": "execute_result",
          "execution_count": 67,
          "data": {
            "text/html": "<div>\n<style scoped>\n    .dataframe tbody tr th:only-of-type {\n        vertical-align: middle;\n    }\n\n    .dataframe tbody tr th {\n        vertical-align: top;\n    }\n\n    .dataframe thead th {\n        text-align: right;\n    }\n</style>\n<table border=\"1\" class=\"dataframe\">\n  <thead>\n    <tr style=\"text-align: right;\">\n      <th></th>\n      <th>age</th>\n      <th>txn_description_INTER BANK</th>\n      <th>txn_description_PAY/SALARY</th>\n      <th>txn_description_PAYMENT</th>\n      <th>txn_description_PHONE BANK</th>\n      <th>txn_description_POS</th>\n      <th>txn_description_SALES-POS</th>\n      <th>gender_F</th>\n      <th>gender_M</th>\n      <th>merchant_state_ACT</th>\n      <th>merchant_state_NSW</th>\n      <th>merchant_state_NT</th>\n      <th>merchant_state_QLD</th>\n      <th>merchant_state_SA</th>\n      <th>merchant_state_TAS</th>\n      <th>merchant_state_VIC</th>\n      <th>merchant_state_WA</th>\n      <th>movement_credit</th>\n      <th>movement_debit</th>\n    </tr>\n  </thead>\n  <tbody>\n    <tr>\n      <th>0</th>\n      <td>26</td>\n      <td>0</td>\n      <td>0</td>\n      <td>0</td>\n      <td>0</td>\n      <td>1</td>\n      <td>0</td>\n      <td>1</td>\n      <td>0</td>\n      <td>0</td>\n      <td>0</td>\n      <td>0</td>\n      <td>1</td>\n      <td>0</td>\n      <td>0</td>\n      <td>0</td>\n      <td>0</td>\n      <td>0</td>\n      <td>1</td>\n    </tr>\n    <tr>\n      <th>1</th>\n      <td>26</td>\n      <td>0</td>\n      <td>0</td>\n      <td>0</td>\n      <td>0</td>\n      <td>0</td>\n      <td>1</td>\n      <td>1</td>\n      <td>0</td>\n      <td>0</td>\n      <td>1</td>\n      <td>0</td>\n      <td>0</td>\n      <td>0</td>\n      <td>0</td>\n      <td>0</td>\n      <td>0</td>\n      <td>0</td>\n      <td>1</td>\n    </tr>\n    <tr>\n      <th>2</th>\n      <td>38</td>\n      <td>0</td>\n      <td>0</td>\n      <td>0</td>\n      <td>0</td>\n      <td>1</td>\n      <td>0</td>\n      <td>0</td>\n      <td>1</td>\n      <td>0</td>\n      <td>1</td>\n      <td>0</td>\n      <td>0</td>\n      <td>0</td>\n      <td>0</td>\n      <td>0</td>\n      <td>0</td>\n      <td>0</td>\n      <td>1</td>\n    </tr>\n    <tr>\n      <th>3</th>\n      <td>40</td>\n      <td>0</td>\n      <td>0</td>\n      <td>0</td>\n      <td>0</td>\n      <td>0</td>\n      <td>1</td>\n      <td>1</td>\n      <td>0</td>\n      <td>0</td>\n      <td>0</td>\n      <td>0</td>\n      <td>1</td>\n      <td>0</td>\n      <td>0</td>\n      <td>0</td>\n      <td>0</td>\n      <td>0</td>\n      <td>1</td>\n    </tr>\n    <tr>\n      <th>4</th>\n      <td>26</td>\n      <td>0</td>\n      <td>0</td>\n      <td>0</td>\n      <td>0</td>\n      <td>0</td>\n      <td>1</td>\n      <td>1</td>\n      <td>0</td>\n      <td>0</td>\n      <td>0</td>\n      <td>0</td>\n      <td>1</td>\n      <td>0</td>\n      <td>0</td>\n      <td>0</td>\n      <td>0</td>\n      <td>0</td>\n      <td>1</td>\n    </tr>\n  </tbody>\n</table>\n</div>",
            "text/plain": "   age  txn_description_INTER BANK  txn_description_PAY/SALARY  \\\n0   26                           0                           0   \n1   26                           0                           0   \n2   38                           0                           0   \n3   40                           0                           0   \n4   26                           0                           0   \n\n   txn_description_PAYMENT  txn_description_PHONE BANK  txn_description_POS  \\\n0                        0                           0                    1   \n1                        0                           0                    0   \n2                        0                           0                    1   \n3                        0                           0                    0   \n4                        0                           0                    0   \n\n   txn_description_SALES-POS  gender_F  gender_M  merchant_state_ACT  \\\n0                          0         1         0                   0   \n1                          1         1         0                   0   \n2                          0         0         1                   0   \n3                          1         1         0                   0   \n4                          1         1         0                   0   \n\n   merchant_state_NSW  merchant_state_NT  merchant_state_QLD  \\\n0                   0                  0                   1   \n1                   1                  0                   0   \n2                   1                  0                   0   \n3                   0                  0                   1   \n4                   0                  0                   1   \n\n   merchant_state_SA  merchant_state_TAS  merchant_state_VIC  \\\n0                  0                   0                   0   \n1                  0                   0                   0   \n2                  0                   0                   0   \n3                  0                   0                   0   \n4                  0                   0                   0   \n\n   merchant_state_WA  movement_credit  movement_debit  \n0                  0                0               1  \n1                  0                0               1  \n2                  0                0               1  \n3                  0                0               1  \n4                  0                0               1  "
          },
          "metadata": {}
        }
      ]
    },
    {
      "metadata": {
        "trusted": true
      },
      "cell_type": "code",
      "source": "N_train = int(len(df)*0.8)\nX_train = pd.get_dummies(df_cat).iloc[:N_train]\nY_train = df[\"annual_salary\"].iloc[:N_train]\nX_test = pd.get_dummies(df_cat).iloc[N_train:]\nY_test = df[\"annual_salary\"].iloc[N_train:]",
      "execution_count": 68,
      "outputs": []
    },
    {
      "metadata": {},
      "cell_type": "markdown",
      "source": "##  Classification"
    },
    {
      "metadata": {
        "trusted": true
      },
      "cell_type": "code",
      "source": "decision_tree_class = DecisionTreeClassifier()\n",
      "execution_count": 69,
      "outputs": []
    },
    {
      "metadata": {
        "trusted": true
      },
      "cell_type": "code",
      "source": "\ndecision_tree_class.fit(X_train, Y_train)\ndecision_tree_class.score(X_train, Y_train)\n",
      "execution_count": 70,
      "outputs": [
        {
          "output_type": "execute_result",
          "execution_count": 70,
          "data": {
            "text/plain": "0.7882499481004774"
          },
          "metadata": {}
        }
      ]
    },
    {
      "metadata": {
        "trusted": true
      },
      "cell_type": "code",
      "source": "decision_tree_class.predict(X_test)",
      "execution_count": 71,
      "outputs": [
        {
          "output_type": "execute_result",
          "execution_count": 71,
          "data": {
            "text/plain": "array([1013, 1043, 4132, ..., 4054, 1043,  996])"
          },
          "metadata": {}
        }
      ]
    },
    {
      "metadata": {
        "trusted": true
      },
      "cell_type": "code",
      "source": "decision_tree_class.score(X_test, Y_test)",
      "execution_count": 72,
      "outputs": [
        {
          "output_type": "execute_result",
          "execution_count": 72,
          "data": {
            "text/plain": "0.755085097550851"
          },
          "metadata": {}
        }
      ]
    },
    {
      "metadata": {},
      "cell_type": "markdown",
      "source": "## Regression\n"
    },
    {
      "metadata": {
        "trusted": true
      },
      "cell_type": "code",
      "source": "decision_tree_reg = DecisionTreeRegressor()",
      "execution_count": 73,
      "outputs": []
    },
    {
      "metadata": {
        "trusted": true
      },
      "cell_type": "code",
      "source": "decision_tree_reg.fit(X_train, Y_train)\ndecision_tree_reg.score(X_train, Y_train)",
      "execution_count": 74,
      "outputs": [
        {
          "output_type": "execute_result",
          "execution_count": 74,
          "data": {
            "text/plain": "0.7468978726536879"
          },
          "metadata": {}
        }
      ]
    },
    {
      "metadata": {
        "trusted": true
      },
      "cell_type": "code",
      "source": "decision_tree_reg.predict(X_test)\n",
      "execution_count": 75,
      "outputs": [
        {
          "output_type": "execute_result",
          "execution_count": 75,
          "data": {
            "text/plain": "array([1226.42857143, 1043.        , 4132.        , ..., 3345.04761905,\n       1043.        , 1626.        ])"
          },
          "metadata": {}
        }
      ]
    },
    {
      "metadata": {
        "trusted": true
      },
      "cell_type": "code",
      "source": "decision_tree_reg.score(X_test, Y_test)\n",
      "execution_count": 76,
      "outputs": [
        {
          "output_type": "execute_result",
          "execution_count": 76,
          "data": {
            "text/plain": "0.6807158887508269"
          },
          "metadata": {}
        }
      ]
    },
    {
      "metadata": {},
      "cell_type": "markdown",
      "source": "# Hence we Conclude that decision_tree_classification shows better results"
    },
    {
      "metadata": {
        "trusted": true
      },
      "cell_type": "code",
      "source": "",
      "execution_count": null,
      "outputs": []
    }
  ],
  "metadata": {
    "kernelspec": {
      "name": "python36",
      "display_name": "Python 3.6",
      "language": "python"
    },
    "language_info": {
      "mimetype": "text/x-python",
      "nbconvert_exporter": "python",
      "name": "python",
      "pygments_lexer": "ipython3",
      "version": "3.6.6",
      "file_extension": ".py",
      "codemirror_mode": {
        "version": 3,
        "name": "ipython"
      }
    }
  },
  "nbformat": 4,
  "nbformat_minor": 2
}